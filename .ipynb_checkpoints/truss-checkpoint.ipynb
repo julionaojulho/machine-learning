{
 "cells": [
  {
   "cell_type": "markdown",
   "metadata": {},
   "source": [
    "## Treliça"
   ]
  },
  {
   "cell_type": "code",
   "execution_count": 1,
   "metadata": {
    "collapsed": true
   },
   "outputs": [],
   "source": [
    "import numpy as np\n",
    "import matplotlib.pyplot as plt\n",
    "from scipy.linalg import solve\n",
    "%matplotlib inline"
   ]
  },
  {
   "cell_type": "code",
   "execution_count": 2,
   "metadata": {
    "collapsed": false
   },
   "outputs": [],
   "source": [
    "A_0 = 100  # mm^2\n",
    "E = 2e15   # N/mm^2\n",
    "L = 1.5e3*np.array([1,np.sqrt(2),1])     # mm\n",
    "F = np.array([0,500,-500]).reshape(3,1)  # N\n",
    "r_v = 1\n",
    "r_A = [1,1,1]"
   ]
  },
  {
   "cell_type": "code",
   "execution_count": 3,
   "metadata": {
    "collapsed": false
   },
   "outputs": [],
   "source": [
    "def k_bar(Ai,Li):\n",
    "    return(Ai * E / Li)\n",
    "\n",
    "def k_matrix(A):\n",
    "    A1,A2,A3 = A[0],A[1],A[2]\n",
    "    L1,L2,L3 = L[0],L[1],L[2]\n",
    "    k_1 = k_bar(A1,L1)\n",
    "    k_2 = k_bar(A2,L2)\n",
    "    k_3 = k_bar(A3,L3)\n",
    "    return(np.array([k_1 + k_2,-k_1,-k_1,\n",
    "                    -k_1,k_1 + k_2,k_1,\n",
    "                    -k_1,k_1,k_1]).reshape(3,3))\n",
    "\n",
    "def u_desl(A):\n",
    "    K = k_matrix(A)\n",
    "    u = solve(K,F)\n",
    "    return(u)\n",
    "\n",
    "def dk_dA(A):\n",
    "    L1,L2,L3 = L[0],L[1],L[2]\n",
    "    dk1 = E / (2 * L1) * np.array([1,-1,-1,\n",
    "                                 -1,1,1,\n",
    "                                 -1,1,1]).reshape(3,3)\n",
    "    dk2 = E / (L2) * np.array([0,0,0,\n",
    "                               0,1,0,\n",
    "                               0,0,0]).reshape(3,3)\n",
    "    dk3 = E / (L3) * np.array([1,0,0,\n",
    "                               0,0,0,\n",
    "                               0,0,0]).reshape(3,3)\n",
    "    return(dk1,dk2,dk3)\n",
    "    \n",
    "\n",
    "def du_dA(A):\n",
    "    u = u_desl(A)\n",
    "    K = k_matrix(A)\n",
    "    dk1,dk2,dk3 = dk_dA(A)\n",
    "    return(solve(K,np.matmul(-dk1,u)),\n",
    "           solve(K,np.matmul(-dk2,u)),\n",
    "           solve(K,np.matmul(-dk3,u)))\n",
    "\n",
    "def f(A):\n",
    "    u = u_desl(A)\n",
    "    return(0.5 * np.matmul(F.T,u)[0])\n",
    "\n",
    "def g_V(A):\n",
    "    return(np.dot(A,L) - 300 * np.sum(L))\n",
    "\n",
    "def g_A(A):\n",
    "    return(A_0 - np.array(A))\n",
    "\n",
    "def lagr(A):\n",
    "    return(f(A) + r_v * max(0,g_V(A))**2\n",
    "           + np.dot(r_A,np.maximum(g_A(A),0)**2))\n",
    "\n",
    "def grad_dir(A):    \n",
    "    L1,L2,L3 = L[0],L[1],L[2]\n",
    "    Vg = r_v * max(0,g_V(A))\n",
    "    Ag = r_A*np.maximum(g_A([1,2,103]),0)\n",
    "    uA = du_dA(A)\n",
    "    return(np.array([L1 * Vg - Ag[0] +\n",
    "           np.matmul(F.T,uA[0])[0][0],\n",
    "           L2 * Vg - Ag[1] +\n",
    "           np.matmul(F.T,uA[1])[0][0],\n",
    "           L3 * Vg - Ag[2] +\n",
    "           np.matmul(F.T,uA[2])[0][0]]).reshape(3,1))\n",
    "\n",
    "def grad_adj(A):\n",
    "    L1,L2,L3 = L[0],L[1],L[2]\n",
    "    Vg = r_v * max(0,g_V(A))\n",
    "    Ag = r_A*np.maximum(g_A([1,2,103]),0)\n",
    "    dk1,dk2,dk3 = dk_dA(A)\n",
    "    u = u_desl(A)\n",
    "    ga1 = -np.matmul(np.matmul(dk1,u).T,u)[0][0]\n",
    "    ga2 = -np.matmul(np.matmul(dk2,u).T,u)[0][0]\n",
    "    ga3 = -np.matmul(np.matmul(dk3,u).T,u)[0][0]\n",
    "    return(np.array([L1 * Vg - Ag[0] + ga1,\n",
    "                     L2 * Vg - Ag[1] + ga2,\n",
    "                     L3 * Vg - Ag[2] + ga3]).reshape(3,1))"
   ]
  },
  {
   "cell_type": "code",
   "execution_count": 4,
   "metadata": {
    "collapsed": false
   },
   "outputs": [
    {
     "name": "stdout",
     "output_type": "stream",
     "text": [
      "[[ -9.90000000e+01]\n",
      " [ -9.80000000e+01]\n",
      " [ -3.75000000e-11]] \n",
      " [[ -9.90000000e+01]\n",
      " [ -9.80000000e+01]\n",
      " [ -3.75000000e-11]]\n"
     ]
    }
   ],
   "source": [
    "print(grad_adj([100,100,100]),'\\n',grad_dir([100,100,100]))"
   ]
  },
  {
   "cell_type": "code",
   "execution_count": null,
   "metadata": {
    "collapsed": true
   },
   "outputs": [],
   "source": []
  }
 ],
 "metadata": {
  "kernelspec": {
   "display_name": "Python 3",
   "language": "python",
   "name": "python3"
  },
  "language_info": {
   "codemirror_mode": {
    "name": "ipython",
    "version": 3
   },
   "file_extension": ".py",
   "mimetype": "text/x-python",
   "name": "python",
   "nbconvert_exporter": "python",
   "pygments_lexer": "ipython3",
   "version": "3.5.2"
  }
 },
 "nbformat": 4,
 "nbformat_minor": 0
}
