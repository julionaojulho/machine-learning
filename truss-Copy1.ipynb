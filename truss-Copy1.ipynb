{
 "cells": [
  {
   "cell_type": "markdown",
   "metadata": {},
   "source": [
    "## Treliça"
   ]
  },
  {
   "cell_type": "code",
   "execution_count": 1,
   "metadata": {
    "collapsed": true
   },
   "outputs": [],
   "source": [
    "import numpy as np\n",
    "import matplotlib.pyplot as plt\n",
    "from scipy.linalg import solve\n",
    "%matplotlib inline"
   ]
  },
  {
   "cell_type": "code",
   "execution_count": 2,
   "metadata": {
    "collapsed": false
   },
   "outputs": [],
   "source": [
    "A_0 = 100  # mm^2\n",
    "E = 2e17   # N/mm^2\n",
    "L = 1.5e3*np.array([np.sqrt(2),1,1])     # mm\n",
    "F = np.array([0,500,-500]).reshape(3,1)  # N"
   ]
  },
  {
   "cell_type": "code",
   "execution_count": 252,
   "metadata": {
    "collapsed": false
   },
   "outputs": [],
   "source": [
    "def k_bar(Ai,Li):\n",
    "    return(Ai * E / Li)\n",
    "\n",
    "def k_matrix(A):\n",
    "    A1,A2,A3 = A[0],A[1],A[2]\n",
    "    L1,L2,L3 = L[0],L[1],L[2]\n",
    "    k_1 = k_bar(A1,L1)\n",
    "    k_2 = k_bar(A2,L2)\n",
    "    k_3 = k_bar(A3,L3)\n",
    "    return(np.array([k_1 + k_2,-k_1,-k_1,\n",
    "                    -k_1,k_1 + k_2,k_1,\n",
    "                    -k_1,k_1,k_1]).reshape(3,3))\n",
    "\n",
    "def u_desl(A):\n",
    "    K = k_matrix(A)\n",
    "    u = solve(K,F)\n",
    "    return(u)\n",
    "\n",
    "def dk_dA(A):\n",
    "    L1,L2,L3 = L[0],L[1],L[2]\n",
    "    dk1 = E / (2 * L1) * np.array([1,-1,-1,\n",
    "                                 -1,1,1,\n",
    "                                 -1,1,1]).reshape(3,3)\n",
    "    dk2 = E / (L2) * np.array([0,0,0,\n",
    "                               0,1,0,\n",
    "                               0,0,0]).reshape(3,3)\n",
    "    dk3 = E / (L3) * np.array([1,0,0,\n",
    "                               0,0,0,\n",
    "                               0,0,0]).reshape(3,3)\n",
    "    return(dk1,dk2,dk3)\n",
    "    \n",
    "\n",
    "def du_dA(A):\n",
    "    u = u_desl(A)\n",
    "    K = k_matrix(A)\n",
    "    dk1,dk2,dk3 = dk_dA(A)\n",
    "    return(solve(K,np.matmul(-dk1,u)),\n",
    "           solve(K,np.matmul(-dk2,u)),\n",
    "           solve(K,np.matmul(-dk3,u)))\n",
    "\n",
    "def f(A):\n",
    "    u = u_desl(A)\n",
    "    return(0.5*np.matmul(F.T,u)[0])\n",
    "\n",
    "def g_V(A):\n",
    "    return(np.dot(A,L) - 300 * np.sum(L))\n",
    "\n",
    "def g_A(A):\n",
    "    return(A_0 - np.array(A))\n",
    "\n",
    "def lagr(A):\n",
    "    return(f(A) + r_v * max(0,g_V(A))**2\n",
    "           + np.dot(r_A,np.maximum(g_A(A),0)**2))\n",
    "\n",
    "def grad_dir(A):    \n",
    "    L1,L2,L3 = L[0],L[1],L[2]\n",
    "    Vg = r_v * max(0,g_V(A))\n",
    "    Ag = r_A*np.maximum(g_A(A),0)\n",
    "    uA = du_dA(A)\n",
    "    return(np.array([L1 * Vg - Ag[0] +\n",
    "           0.5*np.matmul(F.T,uA[0])[0][0],\n",
    "           L2 * Vg - Ag[1] +\n",
    "           0.5*np.matmul(F.T,uA[1])[0][0],\n",
    "           L3 * Vg - Ag[2] +\n",
    "           0.5*np.matmul(F.T,uA[2])[0][0]]).reshape(3,1))\n",
    "\n",
    "def grad_adj(A):\n",
    "    L1,L2,L3 = L[0],L[1],L[2]\n",
    "    Vg = r_v * max(0,g_V(A))\n",
    "    Ag = r_A*np.maximum(g_A(A),0)\n",
    "    dk1,dk2,dk3 = dk_dA(A)\n",
    "    u = u_desl(A)\n",
    "    ga1 = -np.matmul(np.matmul(dk1,u).T,u)[0][0]\n",
    "    ga2 = -np.matmul(np.matmul(dk2,u).T,u)[0][0]\n",
    "    ga3 = -np.matmul(np.matmul(dk3,u).T,u)[0][0]\n",
    "    return(np.array([L1 * Vg - Ag[0] + ga1,\n",
    "                     L2 * Vg - Ag[1] + ga2,\n",
    "                     L3 * Vg - Ag[2] + ga3]).reshape(3,1))\n",
    "\n",
    "def hess_num(x0,df,alpha,d,H=np.eye(3)):\n",
    "    try:\n",
    "        solve(H,-df,check_finite=True).T\n",
    "    except:\n",
    "        H = np.eye(3)\n",
    "    c = grad_adj(x0 + alpha * d)\n",
    "    y = c - df\n",
    "    s = alpha * d\n",
    "    #print(df,d,'ys')\n",
    "    if y.all() == 0:\n",
    "        D = 0\n",
    "    else:\n",
    "        D = np.matmul(y,y.T) / np.dot(y.T,s)\n",
    "    E = np.matmul(df,df.T) / np.dot(df.T[0],d)\n",
    "    \n",
    "    return(H + D + E)\n",
    "\n",
    "def direction(x0,flag,alpha=1,d2f=0):\n",
    "    df = grad_adj(x0)\n",
    "    if flag == 0:\n",
    "        d = -df.T\n",
    "    elif flag == 1:\n",
    "        df = grad_adj(x0)\n",
    "        if type(d2f) == int:\n",
    "            d2f = np.eye(3)\n",
    "        try:\n",
    "            d = solve(d2f,-df,sym_pos=True,check_finite=True).T[0]\n",
    "        except:\n",
    "            ll = 1e-1\n",
    "            d2f += ll * np.eye(3)\n",
    "            d = solve(d2f,-df).T[0]\n",
    "            xp = x0 + alpha*d\n",
    "            while lagr(x0) < lagr(xp):\n",
    "                ll = ll * 10\n",
    "                #print(d2f)\n",
    "                if not(np.isfinite(d2f).any()):\n",
    "                    d2f = ll * np.eye(3)\n",
    "                else:\n",
    "                    d2f = d2f + ll * np.eye(3)\n",
    "                d = solve(d2f,-df).T[0]                \n",
    "                xp = x0 + alpha*d\n",
    "    return(d)\n",
    "\n",
    "def step(x0,d,inc=1e-6):\n",
    "    soma = 0\n",
    "    f1 = lagr(x0)\n",
    "    m = (np.sqrt(5) + 1) / 2\n",
    "    x1 = x0 + inc*d\n",
    "    while lagr(x1) > f1:\n",
    "        inc = inc / 10\n",
    "        x1 = x0 + inc * d\n",
    "#     print(inc,'x')\n",
    "    for i in range(100):\n",
    "        soma += m**i\n",
    "        if lagr(x0+inc*(soma)*d) > f1 and i > 0:\n",
    "            break\n",
    "        elif lagr(x0+inc*(soma)*d) > f1 and i == 0:\n",
    "            inc = inc / 10\n",
    "    I = inc * m**(i-1)*(1+m)\n",
    "    T = 1 / m\n",
    "    Au = inc * (soma)\n",
    "    Al = inc * (soma - m**i*(1+1/m))\n",
    "    Ab = T * I + Al\n",
    "    Aa = (1-T) * I + Al\n",
    "    fa = lagr(x0+Aa*d)\n",
    "    fb = lagr(x0+Ab*d)\n",
    "    while I >= 1e-1:\n",
    "        if fa < fb:\n",
    "            Au, Ab = Ab, Aa    \n",
    "            Aa = Al + (1-T) * (Au-Al)\n",
    "            fb, fa = fa, lagr(x0+Aa*d)\n",
    "        elif fa > fb:\n",
    "            Al, Aa = Aa, Ab            \n",
    "            Ab = T * (Au-Al) + Al\n",
    "            fa, fb = fb, lagr(x0+Ab*d)\n",
    "        else:\n",
    "            Al,Au = Aa, Ab            \n",
    "            Ab = T * (Au-Al) + Al\n",
    "            Aa = (1-T) * (Au-Al) + Al\n",
    "            fa = lagr(x0+Aa*d)\n",
    "            fb = lagr(x0+Ab*d)\n",
    "        I = Au - Al\n",
    "    AA = 0.5*(Au+Al)\n",
    "    return(AA)"
   ]
  },
  {
   "cell_type": "code",
   "execution_count": 257,
   "metadata": {
    "collapsed": false,
    "scrolled": true
   },
   "outputs": [
    {
     "name": "stdout",
     "output_type": "stream",
     "text": [
      "[  4.00888348e-11] 1.74304172195e-13 [[ 0.94285714 -0.32324881 -0.0808122 ]\n",
      " [-0.32324881 -0.82857143 -0.45714286]\n",
      " [-0.0808122  -0.45714286  0.88571429]]\n",
      "0 [150, 150, 150]\n"
     ]
    },
    {
     "ename": "KeyboardInterrupt",
     "evalue": "",
     "output_type": "error",
     "traceback": [
      "\u001b[1;31m---------------------------------------------------------------------------\u001b[0m",
      "\u001b[1;31mKeyboardInterrupt\u001b[0m                         Traceback (most recent call last)",
      "\u001b[1;32m<ipython-input-257-3a36583cad79>\u001b[0m in \u001b[0;36m<module>\u001b[1;34m()\u001b[0m\n\u001b[0;32m     27\u001b[0m         \u001b[0md\u001b[0m \u001b[1;33m=\u001b[0m \u001b[0mdirection\u001b[0m\u001b[1;33m(\u001b[0m\u001b[0mvar\u001b[0m\u001b[1;33m,\u001b[0m\u001b[1;36m1\u001b[0m\u001b[1;33m,\u001b[0m\u001b[0ma\u001b[0m\u001b[1;33m,\u001b[0m\u001b[0md2l\u001b[0m\u001b[1;33m)\u001b[0m\u001b[1;33m\u001b[0m\u001b[0m\n\u001b[0;32m     28\u001b[0m         \u001b[0md2l\u001b[0m \u001b[1;33m=\u001b[0m \u001b[0mhess_num\u001b[0m\u001b[1;33m(\u001b[0m\u001b[0mvar\u001b[0m\u001b[1;33m,\u001b[0m\u001b[0mdl\u001b[0m\u001b[1;33m,\u001b[0m\u001b[0ma\u001b[0m\u001b[1;33m,\u001b[0m\u001b[0md\u001b[0m\u001b[1;33m,\u001b[0m\u001b[0md2l\u001b[0m\u001b[1;33m)\u001b[0m\u001b[1;33m\u001b[0m\u001b[0m\n\u001b[1;32m---> 29\u001b[1;33m         \u001b[0ma\u001b[0m \u001b[1;33m=\u001b[0m \u001b[0mstep\u001b[0m\u001b[1;33m(\u001b[0m\u001b[0mvar\u001b[0m\u001b[1;33m,\u001b[0m\u001b[0md\u001b[0m\u001b[1;33m,\u001b[0m\u001b[0minc\u001b[0m\u001b[1;33m)\u001b[0m\u001b[1;33m\u001b[0m\u001b[0m\n\u001b[0m\u001b[0;32m     30\u001b[0m         \u001b[0ml\u001b[0m\u001b[1;33m,\u001b[0m\u001b[0mdl\u001b[0m \u001b[1;33m=\u001b[0m \u001b[0mlagr\u001b[0m\u001b[1;33m(\u001b[0m\u001b[0mvar\u001b[0m\u001b[1;33m)\u001b[0m\u001b[1;33m,\u001b[0m\u001b[0mgrad_dir\u001b[0m\u001b[1;33m(\u001b[0m\u001b[0mvar\u001b[0m\u001b[1;33m)\u001b[0m\u001b[1;33m\u001b[0m\u001b[0m\n\u001b[0;32m     31\u001b[0m     \u001b[0mAppp\u001b[0m\u001b[1;33m.\u001b[0m\u001b[0mappend\u001b[0m\u001b[1;33m(\u001b[0m\u001b[0mvar\u001b[0m\u001b[1;33m)\u001b[0m\u001b[1;33m\u001b[0m\u001b[0m\n",
      "\u001b[1;32m<ipython-input-252-b40f2655798e>\u001b[0m in \u001b[0;36mstep\u001b[1;34m(x0, d, inc)\u001b[0m\n\u001b[0;32m    157\u001b[0m             \u001b[0mAb\u001b[0m \u001b[1;33m=\u001b[0m \u001b[0mT\u001b[0m \u001b[1;33m*\u001b[0m \u001b[1;33m(\u001b[0m\u001b[0mAu\u001b[0m\u001b[1;33m-\u001b[0m\u001b[0mAl\u001b[0m\u001b[1;33m)\u001b[0m \u001b[1;33m+\u001b[0m \u001b[0mAl\u001b[0m\u001b[1;33m\u001b[0m\u001b[0m\n\u001b[0;32m    158\u001b[0m             \u001b[0mAa\u001b[0m \u001b[1;33m=\u001b[0m \u001b[1;33m(\u001b[0m\u001b[1;36m1\u001b[0m\u001b[1;33m-\u001b[0m\u001b[0mT\u001b[0m\u001b[1;33m)\u001b[0m \u001b[1;33m*\u001b[0m \u001b[1;33m(\u001b[0m\u001b[0mAu\u001b[0m\u001b[1;33m-\u001b[0m\u001b[0mAl\u001b[0m\u001b[1;33m)\u001b[0m \u001b[1;33m+\u001b[0m \u001b[0mAl\u001b[0m\u001b[1;33m\u001b[0m\u001b[0m\n\u001b[1;32m--> 159\u001b[1;33m             \u001b[0mfa\u001b[0m \u001b[1;33m=\u001b[0m \u001b[0mlagr\u001b[0m\u001b[1;33m(\u001b[0m\u001b[0mx0\u001b[0m\u001b[1;33m+\u001b[0m\u001b[0mAa\u001b[0m\u001b[1;33m*\u001b[0m\u001b[0md\u001b[0m\u001b[1;33m)\u001b[0m\u001b[1;33m\u001b[0m\u001b[0m\n\u001b[0m\u001b[0;32m    160\u001b[0m             \u001b[0mfb\u001b[0m \u001b[1;33m=\u001b[0m \u001b[0mlagr\u001b[0m\u001b[1;33m(\u001b[0m\u001b[0mx0\u001b[0m\u001b[1;33m+\u001b[0m\u001b[0mAb\u001b[0m\u001b[1;33m*\u001b[0m\u001b[0md\u001b[0m\u001b[1;33m)\u001b[0m\u001b[1;33m\u001b[0m\u001b[0m\n\u001b[0;32m    161\u001b[0m         \u001b[0mI\u001b[0m \u001b[1;33m=\u001b[0m \u001b[0mAu\u001b[0m \u001b[1;33m-\u001b[0m \u001b[0mAl\u001b[0m\u001b[1;33m\u001b[0m\u001b[0m\n",
      "\u001b[1;32m<ipython-input-252-b40f2655798e>\u001b[0m in \u001b[0;36mlagr\u001b[1;34m(A)\u001b[0m\n\u001b[0;32m     51\u001b[0m \u001b[1;32mdef\u001b[0m \u001b[0mlagr\u001b[0m\u001b[1;33m(\u001b[0m\u001b[0mA\u001b[0m\u001b[1;33m)\u001b[0m\u001b[1;33m:\u001b[0m\u001b[1;33m\u001b[0m\u001b[0m\n\u001b[0;32m     52\u001b[0m     return(f(A) + r_v * max(0,g_V(A))**2\n\u001b[1;32m---> 53\u001b[1;33m            + np.dot(r_A,np.maximum(g_A(A),0)**2))\n\u001b[0m\u001b[0;32m     54\u001b[0m \u001b[1;33m\u001b[0m\u001b[0m\n\u001b[0;32m     55\u001b[0m \u001b[1;32mdef\u001b[0m \u001b[0mgrad_dir\u001b[0m\u001b[1;33m(\u001b[0m\u001b[0mA\u001b[0m\u001b[1;33m)\u001b[0m\u001b[1;33m:\u001b[0m\u001b[1;33m\u001b[0m\u001b[0m\n",
      "\u001b[1;31mKeyboardInterrupt\u001b[0m: "
     ]
    }
   ],
   "source": [
    "r_v = 1e6\n",
    "r_A = [r_v]*3\n",
    "A0 = [150,150,150]\n",
    "l,dl= lagr(A0),grad_dir(A0)\n",
    "d2l = hess_num(A0,dl,1,-dl.T[0])\n",
    "print(l,np.linalg.norm(dl),d2l)\n",
    "d = direction(A0,1,1,d2l)[0]\n",
    "inc = 1e3\n",
    "a = step(A0,d,inc)\n",
    "var = A0\n",
    "Appp = [[0,0,0]]*10\n",
    "# print(lagr(var+a*d))\n",
    "\n",
    "for i in range(1000):    \n",
    "    if np.linalg.norm(dl) <= 1e-18:\n",
    "        break\n",
    "    elif i > 900 and (Appp[i] == Appp[i-20]).all():\n",
    "         break\n",
    "    elif lagr(var + a * d) < l:\n",
    "        print(i,var)\n",
    "        while lagr(var + a * d) < l:\n",
    "            dA = a * d\n",
    "            var += dA\n",
    "            l,dl = lagr(var),grad_dir(var)\n",
    "            a = step(var,d,inc)\n",
    "    else:\n",
    "        d = direction(var,1,a,d2l)\n",
    "        d2l = hess_num(var,dl,a,d,d2l)\n",
    "        a = step(var,d,inc)\n",
    "        l,dl = lagr(var),grad_dir(var)\n",
    "    Appp.append(var)\n",
    "    \n",
    "print(var,'\\n',lagr(var),'\\n',np.linalg.norm(dl),'\\n',i)"
   ]
  },
  {
   "cell_type": "code",
   "execution_count": 251,
   "metadata": {
    "collapsed": false,
    "scrolled": true
   },
   "outputs": [
    {
     "data": {
      "text/plain": [
       "(array([ 299.98628098,  300.0242523 ,  299.99514934]), 13)"
      ]
     },
     "execution_count": 251,
     "metadata": {},
     "output_type": "execute_result"
    }
   ],
   "source": [
    "var,i"
   ]
  },
  {
   "cell_type": "code",
   "execution_count": 150,
   "metadata": {
    "collapsed": false
   },
   "outputs": [
    {
     "data": {
      "text/plain": [
       "(0.0,\n",
       " array([ 270.11844635,  363.80711875,  278.45177969]),\n",
       " array([  1.77928852e-11]),\n",
       " array([-170.11844635, -263.80711875, -178.45177969]),\n",
       " array([  1.77928852e-11]),\n",
       " 3.0585336057277214e-14,\n",
       " array([  2.09785236e-14,   6.54208242e-14,   1.63552061e-14]),\n",
       " array([[ -81.3817363 , -257.04973958,  -64.26243489],\n",
       "        [-257.04973958, -801.42154498, -200.60538624],\n",
       "        [ -64.26243489, -200.60538624,  -49.15134656]]))"
      ]
     },
     "execution_count": 150,
     "metadata": {},
     "output_type": "execute_result"
    }
   ],
   "source": [
    "g_V(var),var,f(var),g_A(var),lagr(var),np.linalg.norm(dl),a*d,d2l"
   ]
  },
  {
   "cell_type": "code",
   "execution_count": 72,
   "metadata": {
    "collapsed": false
   },
   "outputs": [
    {
     "data": {
      "text/plain": [
       "array([ 227.19582238,  485.36852431,  217.59213108])"
      ]
     },
     "execution_count": 72,
     "metadata": {},
     "output_type": "execute_result"
    }
   ],
   "source": [
    "e1 = hess_num(A0,grad_dir(A0),1,-grad_dir(A0).T[0])\n",
    "t1 = direction(A0,1,1,e1)[0]\n",
    "a3 = step(A0,t1,1)\n",
    "var = A0 + a3*t1\n",
    "var"
   ]
  },
  {
   "cell_type": "code",
   "execution_count": 70,
   "metadata": {
    "collapsed": false
   },
   "outputs": [
    {
     "data": {
      "text/plain": [
       "array([ 227.19582238,  485.36852431,  217.59213108])"
      ]
     },
     "execution_count": 70,
     "metadata": {},
     "output_type": "execute_result"
    }
   ],
   "source": [
    "e2 = hess_num(var,grad_dir(var),a3,t1)\n",
    "t2 = direction(var,1,a3,e2)[0]\n",
    "var += step(var,t2,1e6)*t2\n",
    "var"
   ]
  },
  {
   "cell_type": "code",
   "execution_count": 239,
   "metadata": {
    "collapsed": false
   },
   "outputs": [
    {
     "data": {
      "text/plain": [
       "array([[ -1.10695482e-15],\n",
       "       [ -6.26188205e-15],\n",
       "       [ -1.56547051e-15]])"
      ]
     },
     "execution_count": 239,
     "metadata": {},
     "output_type": "execute_result"
    }
   ],
   "source": [
    "solve(d2l,-dl)"
   ]
  },
  {
   "cell_type": "code",
   "execution_count": null,
   "metadata": {
    "collapsed": true
   },
   "outputs": [],
   "source": []
  }
 ],
 "metadata": {
  "kernelspec": {
   "display_name": "Python 3",
   "language": "python",
   "name": "python3"
  },
  "language_info": {
   "codemirror_mode": {
    "name": "ipython",
    "version": 3
   },
   "file_extension": ".py",
   "mimetype": "text/x-python",
   "name": "python",
   "nbconvert_exporter": "python",
   "pygments_lexer": "ipython3",
   "version": "3.5.2"
  }
 },
 "nbformat": 4,
 "nbformat_minor": 0
}
