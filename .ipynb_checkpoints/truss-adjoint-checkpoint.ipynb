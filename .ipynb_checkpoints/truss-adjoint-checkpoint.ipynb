{
 "cells": [
  {
   "cell_type": "markdown",
   "metadata": {},
   "source": [
    "## Treliça"
   ]
  },
  {
   "cell_type": "code",
   "execution_count": 1,
   "metadata": {
    "collapsed": true
   },
   "outputs": [],
   "source": [
    "import numpy as np\n",
    "import matplotlib.pyplot as plt\n",
    "from scipy.linalg import solve\n",
    "%matplotlib inline"
   ]
  },
  {
   "cell_type": "code",
   "execution_count": 2,
   "metadata": {
    "collapsed": false
   },
   "outputs": [],
   "source": [
    "A_0 = 100  # mm^2\n",
    "E = 2e5   # N/mm^2\n",
    "L = 1.5e3*np.array([np.sqrt(2),1,1])     # mm\n",
    "F = np.array([0,500,-500]).reshape(3,1)  # N"
   ]
  },
  {
   "cell_type": "code",
   "execution_count": 3,
   "metadata": {
    "collapsed": false
   },
   "outputs": [],
   "source": [
    "def k_bar(Ai,Li):\n",
    "    return(Ai * E / Li)\n",
    "\n",
    "def k_matrix(A):\n",
    "    A1,A2,A3 = A[0],A[1],A[2]\n",
    "    L1,L2,L3 = L[0],L[1],L[2]\n",
    "    k_1 = k_bar(A1,L1)\n",
    "    k_2 = k_bar(A2,L2)\n",
    "    k_3 = k_bar(A3,L3)\n",
    "    return(np.array([k_1 + k_2,-k_1,-k_1,\n",
    "                    -k_1,k_1 + k_2,k_1,\n",
    "                    -k_1,k_1,k_1]).reshape(3,3))\n",
    "\n",
    "def u_desl(A):\n",
    "    K = k_matrix(A)\n",
    "    u = solve(K,F)\n",
    "    return(u)\n",
    "\n",
    "def dk_dA(A):\n",
    "    L1,L2,L3 = L[0],L[1],L[2]\n",
    "    dk1 = E / (2 * L1) * np.array([1,-1,-1,\n",
    "                                 -1,1,1,\n",
    "                                 -1,1,1]).reshape(3,3)\n",
    "    dk2 = E / (L2) * np.array([0,0,0,\n",
    "                               0,1,0,\n",
    "                               0,0,0]).reshape(3,3)\n",
    "    dk3 = E / (L3) * np.array([1,0,0,\n",
    "                               0,0,0,\n",
    "                               0,0,0]).reshape(3,3)\n",
    "    return(dk1,dk2,dk3)\n",
    "    \n",
    "\n",
    "def du_dA(A):\n",
    "    u = u_desl(A)\n",
    "    K = k_matrix(A)\n",
    "    dk1,dk2,dk3 = dk_dA(A)\n",
    "    return(solve(K,np.matmul(-dk1,u)),\n",
    "           solve(K,np.matmul(-dk2,u)),\n",
    "           solve(K,np.matmul(-dk3,u)))\n",
    "\n",
    "def f(A):\n",
    "    u = u_desl(A)\n",
    "    return(0.5*np.matmul(F.T,u)[0])\n",
    "\n",
    "def g_V(A):\n",
    "    return(np.dot(A,L) - 300 * np.sum(L))\n",
    "\n",
    "def g_A(A):\n",
    "    return(A_0 - np.array(A))\n",
    "\n",
    "def g_A2(A):\n",
    "    return(np.array(A) - 500)\n",
    "\n",
    "def lagr(A):\n",
    "    return(f(A) + r_v * max(0,g_V(A))**2\n",
    "           + np.dot(r_A,np.maximum(g_A(A),0)**2)\n",
    "           + np.dot(r_A,np.maximum(g_A2(A),0)**2))\n",
    "\n",
    "def grad_dir(A):    \n",
    "    L1,L2,L3 = L[0],L[1],L[2]\n",
    "    Vg = r_v * max(0,g_V(A))\n",
    "    Ag = r_A*np.maximum(g_A(A),0)\n",
    "    Ag2 = r_A*np.maximum(g_A2(A),0)\n",
    "    uA = du_dA(A)\n",
    "    return(np.array([L1 * Vg - Ag[0] + Ag2[0]\n",
    "           + 0.5*np.matmul(F.T,uA[0])[0][0],\n",
    "           L2 * Vg - Ag[1] + Ag2[1]\n",
    "           + 0.5*np.matmul(F.T,uA[1])[0][0],\n",
    "           L3 * Vg - Ag[2] + Ag2[2]\n",
    "           + 0.5*np.matmul(F.T,uA[2])[0][0]]).reshape(3,1))\n",
    "\n",
    "def grad_adj(A):\n",
    "    L1,L2,L3 = L[0],L[1],L[2]\n",
    "    Vg = r_v * max(0,g_V(A))\n",
    "    Ag = r_A*np.maximum(g_A(A),0)    \n",
    "    Ag2 = r_A*np.maximum(g_A2(A),0)\n",
    "    dk1,dk2,dk3 = dk_dA(A)\n",
    "    u = u_desl(A)\n",
    "    ga1 = -np.matmul(np.matmul(dk1,u).T,u)[0][0]\n",
    "    ga2 = -np.matmul(np.matmul(dk2,u).T,u)[0][0]\n",
    "    ga3 = -np.matmul(np.matmul(dk3,u).T,u)[0][0]\n",
    "    return(np.array([L1 * Vg - Ag[0] + Ag2[0] + ga1,\n",
    "                     L2 * Vg - Ag[1] + Ag2[1] + ga2,\n",
    "                     L3 * Vg - Ag[2] + Ag2[2] + ga3]).reshape(3,1))\n",
    "\n",
    "def hess_num(x0,df,alpha,d,H=np.eye(3)):\n",
    "    try:\n",
    "        solve(H,-df,check_finite=True).T\n",
    "    except:\n",
    "        H = np.eye(3)\n",
    "    c = grad_adj(x0 + alpha * d)\n",
    "    y = c - df\n",
    "    s = alpha * d\n",
    "    #print(df,d,'ys')\n",
    "    if y.all() == 0:\n",
    "        D = 0\n",
    "    else:\n",
    "        D = np.matmul(y,y.T) / np.dot(y.T,s)\n",
    "    E = np.matmul(df,df.T) / np.dot(df.T[0],d)\n",
    "    \n",
    "    return(H + D + E)\n",
    "\n",
    "def direction(x0,flag,alpha=1,d2f=0):\n",
    "    df = grad_adj(x0)\n",
    "    if flag == 0:\n",
    "        d = -df.T\n",
    "    elif flag == 1:\n",
    "        df = grad_adj(x0)\n",
    "        if type(d2f) == int:\n",
    "            d2f = np.eye(3)\n",
    "        try:\n",
    "            d = solve(d2f,-df,sym_pos=True,check_finite=True).T\n",
    "        except:\n",
    "            ll = 1e1\n",
    "            d2f = d2f + ll * np.eye(3)\n",
    "            d = solve(d2f,-df).T\n",
    "            while lagr(x0) < lagr(x0 + alpha*d[0]):\n",
    "                ll = ll * 2\n",
    "                if np.isnan(d2f).any():\n",
    "                    d2f = ll * np.eye(3)\n",
    "                else:\n",
    "                    d2f = d2f + ll * np.eye(3)\n",
    "                d = solve(d2f,-df).T\n",
    "    return(d)\n",
    "\n",
    "def step(x0,d,inc=1e-6):\n",
    "    soma = 0\n",
    "    ll1 = lagr(x0)\n",
    "    m = (np.sqrt(5) + 1) / 2\n",
    "    x1 = x0 + inc*d\n",
    "    while lagr(x1) > ll1:\n",
    "        inc = inc / 10\n",
    "        x1 = x0 + inc * d\n",
    "    for i in range(100):\n",
    "        soma += m**i\n",
    "        if lagr(x0+inc*(soma)*d) > ll1 and i > 0:\n",
    "            break\n",
    "        elif lagr(x0+inc*(soma)*d) > ll1 and i == 0:\n",
    "            inc = inc / 2\n",
    "    I = inc * m**(i-1)*(1+m)\n",
    "    T = 1 / m\n",
    "    Au = inc * (soma)\n",
    "    Al = inc * (soma - m**i*(1+1/m))\n",
    "    Ab = T * I + Al\n",
    "    Aa = (1-T) * I + Al\n",
    "    fa = lagr(x0+Aa*d)\n",
    "    fb = lagr(x0+Ab*d)\n",
    "    while I > 1e-3:\n",
    "        if fa < fb:\n",
    "            Au, Ab = Ab, Aa    \n",
    "            Aa = Al + (1-T) * (Au-Al)\n",
    "            fb, fa = fa, lagr(x0+Aa*d)\n",
    "        elif fa > fb:\n",
    "            Al, Aa = Aa, Ab            \n",
    "            Ab = T * (Au-Al) + Al\n",
    "            fa, fb = fb, lagr(x0+Ab*d)\n",
    "        else:\n",
    "            Al,Au = Aa, Ab            \n",
    "            Ab = T * (Au-Al) + Al\n",
    "            Aa = (1-T) * (Au-Al) + Al\n",
    "            fa = lagr(x0+Aa*d)\n",
    "            fb = lagr(x0+Ab*d)\n",
    "        I = Au - Al\n",
    "    AA = 0.5*(Au+Al)\n",
    "    return(AA)"
   ]
  },
  {
   "cell_type": "code",
   "execution_count": 131,
   "metadata": {
    "collapsed": false,
    "scrolled": true
   },
   "outputs": [
    {
     "name": "stdout",
     "output_type": "stream",
     "text": [
      "[ 16.13816738] 0.0505134498471 [[ 5.4148215   2.91143998  3.11426348]\n",
      " [ 2.91143998  2.38905693  2.03480038]\n",
      " [ 3.11426348  2.03480038  3.19615845]]\n",
      "0 [ 299.97421293  400.07094334  199.98495037] [ 16.13731826] 0.0570059464447\n",
      "1 [ 299.97421293  400.07094334  199.98495037] [ 16.13731826] 0.0570059464447\n",
      "2 [ 244.55854612  500.          165.75572445] [ 14.79629987] 0.0380480855309\n",
      "3 [ 244.55854612  500.          165.75572445] [ 14.79629987] 0.0380480855309\n",
      "4 [ 244.55854611  500.          165.75572445] [ 14.79629987] 0.0380480855308\n",
      "5 [ 244.55854611  500.          165.75572445] [ 14.79629987] 0.0380480855308\n",
      "6 [ 265.73559794  500.          148.46416256] [ 14.36437425] 65.0145778366\n",
      "7 [ 265.73559794  500.          148.46416256] [ 14.36437425] 65.0145778366\n",
      "8 [ 265.73275694  500.          148.4516166 ] [ 14.36431795] 0.0361770207407\n",
      "9 [ 265.73275694  500.          148.4516166 ] [ 14.36431795] 0.0361770207407\n",
      "10 [ 265.73583958  500.          148.45803395] [ 14.36426328] 0.0315210630399\n",
      "11 [ 265.73583958  500.          148.45803395] [ 14.36426328] 0.0315210630399\n",
      "12 [ 265.73635658  500.          148.45829137] [ 14.36426108] 0.0278605741911\n",
      "13 [ 265.73635658  500.          148.45829137] [ 14.36426108] 0.0278605741911\n",
      "14 [ 265.73610512  500.          148.4579321 ] [ 14.36425993] 0.0304867384403\n",
      "15 [ 265.73610512  500.          148.4579321 ] [ 14.36425993] 0.0304867384403\n",
      "16 [ 265.73652122  500.          148.45811811] [ 14.36425858] 0.0276473429828\n",
      "17 [ 265.73652122  500.          148.45811811] [ 14.36425858] 0.0276473429828\n",
      "18 [ 265.73632849  500.          148.45794234] [ 14.36425813] 0.0292740160586\n",
      "19 [ 265.73632849  500.          148.45794234] [ 14.36425813] 0.0292740160586\n",
      "20 [ 265.73663156  500.          148.45805532] [ 14.36425747] 0.0273155732022\n",
      "21 [ 265.73663156  500.          148.45805532] [ 14.36425747] 0.0273155732022\n",
      "22 [ 265.73655518  500.          148.45801778] [ 14.36425742] 0.0278344782117\n",
      "23 [ 265.73655518  500.          148.45801778] [ 14.36425742] 0.0278344782117\n",
      "24 [ 265.73701176  500.          148.45803911] [ 14.36425642] 0.0255079196809\n",
      "25 [ 265.73701176  500.          148.45803911] [ 14.36425642] 0.0255079196809\n",
      "26 [ 265.73773041  500.          148.4578392 ] [ 14.36425493] 0.022875295775\n",
      "27 [ 265.73773041  500.          148.4578392 ] [ 14.36425493] 0.022875295775\n",
      "28 [ 265.73773041  500.          148.4578392 ] [ 14.36425493] 0.022875295775\n",
      "29 [ 265.73773041  500.          148.4578392 ] [ 14.36425493] 0.022875295775\n",
      "30 [ 265.73773041  500.          148.4578392 ] [ 14.36425493] 0.022875295775\n",
      "31 [ 265.73773041  500.          148.4578392 ] [ 14.36425493] 0.022875295775\n",
      "32 [ 265.73773041  500.          148.4578392 ] [ 14.36425493] 0.022875295775\n",
      "33 [ 265.73773041  500.          148.4578392 ] [ 14.36425493] 0.022875295775\n",
      "34 [ 265.73773041  500.          148.4578392 ] [ 14.36425493] 0.022875295775\n",
      "35 [ 265.73773041  500.          148.4578392 ] [ 14.36425493] 0.022875295775\n",
      "36 [ 265.73773041  500.          148.4578392 ] [ 14.36425493] 0.022875295775\n",
      "37 [ 265.73773041  500.          148.4578392 ] [ 14.36425493] 0.022875295775\n",
      "38 [ 265.73773041  500.          148.4578392 ] [ 14.36425493] 0.022875295775\n",
      "39 [ 265.73773041  500.          148.4578392 ] [ 14.36425493] 0.022875295775\n",
      "40 [ 265.73773041  500.          148.4578392 ] [ 14.36425493] 0.022875295775\n",
      "41 [ 265.73773041  500.          148.4578392 ] [ 14.36425493] 0.022875295775\n",
      "42 [ 265.73773041  500.          148.4578392 ] [ 14.36425493] 0.022875295775\n",
      "43 [ 265.73773041  500.          148.4578392 ] [ 14.36425493] 0.022875295775\n",
      "44 [ 265.73773041  500.          148.4578392 ] [ 14.36425493] 0.022875295775\n",
      "45 [ 265.73773041  500.          148.4578392 ] [ 14.36425493] 0.022875295775\n",
      "[ 265.73773041  500.          148.4578392 ] \n",
      " [ 14.36425493] \n",
      " 0.022875295775 \n",
      " 46\n"
     ]
    }
   ],
   "source": [
    "r_v = 1e-6\n",
    "r_A = [1e12,1e12,1e12]\n",
    "A0 = [300,400,200]\n",
    "l,dl= lagr(A0),grad_adj(A0)\n",
    "d2l = hess_num(A0,dl,1,-dl.T[0])\n",
    "print(l,np.linalg.norm(dl),d2l)\n",
    "d = direction(A0,1,1,d2l)[0]\n",
    "inc = 0.5\n",
    "a = step(A0,d,inc)\n",
    "var = A0\n",
    "Appp = [[0,0,0]]*10\n",
    "# print(lagr(var+a*d))\n",
    "\n",
    "for i in range(250):\n",
    "    #print(lagr(var+a*d))\n",
    "    if np.linalg.norm(dl) <= 1e-2:\n",
    "        break\n",
    "    elif i > 30 and (dl == Appp[i-10]).all():\n",
    "        break\n",
    "    elif lagr(var + a * d) < l:\n",
    "        while lagr(var + a * d) < l:\n",
    "            dA = a * d\n",
    "            var += dA\n",
    "            l,dl = lagr(var),grad_adj(var)\n",
    "            a = step(var,d,inc)\n",
    "    else:        \n",
    "        d = direction(var,1,a,d2l)[0]\n",
    "        d2l = hess_num(var,dl,a,d,d2l)\n",
    "        a = step(var,d,inc)\n",
    "        l,dl = lagr(var),grad_adj(var)    \n",
    "    print(i,var,lagr(var),np.linalg.norm(dl))\n",
    "    Appp.append(dl)\n",
    "    \n",
    "print(var,'\\n',lagr(var),'\\n',np.linalg.norm(dl),'\\n',i)"
   ]
  },
  {
   "cell_type": "code",
   "execution_count": 78,
   "metadata": {
    "collapsed": false,
    "scrolled": true
   },
   "outputs": [
    {
     "data": {
      "text/plain": [
       "(array([ 358.49168125,  408.59633687,  100.        ]),\n",
       " 99,\n",
       " array([ 16.01755577]))"
      ]
     },
     "execution_count": 78,
     "metadata": {},
     "output_type": "execute_result"
    }
   ],
   "source": [
    "var,i,lagr([ 2.897064e02, 4.097067e02, 2.048533e02])"
   ]
  },
  {
   "cell_type": "code",
   "execution_count": 11,
   "metadata": {
    "collapsed": false
   },
   "outputs": [
    {
     "data": {
      "text/plain": [
       "(array([ 14.39405184]),\n",
       " 0.038525164574914422,\n",
       " array([ -2.95548121e-14,   1.62982020e-14,  -3.78007284e-15]),\n",
       " array([[ -3686.39141574,  -6957.78552089,  -2349.69280039],\n",
       "        [ -6957.78552089, -13773.82631198,  -4340.61192564],\n",
       "        [ -2349.69280039,  -4340.61192564,   -493.76074822]]))"
      ]
     },
     "execution_count": 11,
     "metadata": {},
     "output_type": "execute_result"
    }
   ],
   "source": [
    "lagr(var),np.linalg.norm(dl),a*d,d2l"
   ]
  },
  {
   "cell_type": "code",
   "execution_count": 72,
   "metadata": {
    "collapsed": false
   },
   "outputs": [
    {
     "data": {
      "text/plain": [
       "array([ 227.19582238,  485.36852431,  217.59213108])"
      ]
     },
     "execution_count": 72,
     "metadata": {},
     "output_type": "execute_result"
    }
   ],
   "source": [
    "e1 = hess_num(A0,grad_dir(A0),1,-grad_dir(A0).T[0])\n",
    "t1 = direction(A0,1,1,e1)[0]\n",
    "a3 = step(A0,t1,1)\n",
    "var = A0 + a3*t1\n",
    "var"
   ]
  },
  {
   "cell_type": "code",
   "execution_count": 70,
   "metadata": {
    "collapsed": false
   },
   "outputs": [
    {
     "data": {
      "text/plain": [
       "array([ 227.19582238,  485.36852431,  217.59213108])"
      ]
     },
     "execution_count": 70,
     "metadata": {},
     "output_type": "execute_result"
    }
   ],
   "source": [
    "e2 = hess_num(var,grad_dir(var),a3,t1)\n",
    "t2 = direction(var,1,a3,e2)[0]\n",
    "var += step(var,t2,1e6)*t2\n",
    "var"
   ]
  },
  {
   "cell_type": "code",
   "execution_count": 122,
   "metadata": {
    "collapsed": false,
    "scrolled": true
   },
   "outputs": [
    {
     "data": {
      "text/plain": [
       "(array([ 300.86710244,  402.82859855,  200.69211026]),\n",
       " array([ 300.86710244,  402.82859855,  200.69211026]))"
      ]
     },
     "execution_count": 122,
     "metadata": {},
     "output_type": "execute_result"
    }
   ],
   "source": [
    "Appp[i],Appp[i-5]"
   ]
  },
  {
   "cell_type": "code",
   "execution_count": null,
   "metadata": {
    "collapsed": true
   },
   "outputs": [],
   "source": []
  }
 ],
 "metadata": {
  "kernelspec": {
   "display_name": "Python 3",
   "language": "python",
   "name": "python3"
  },
  "language_info": {
   "codemirror_mode": {
    "name": "ipython",
    "version": 3
   },
   "file_extension": ".py",
   "mimetype": "text/x-python",
   "name": "python",
   "nbconvert_exporter": "python",
   "pygments_lexer": "ipython3",
   "version": "3.5.2"
  }
 },
 "nbformat": 4,
 "nbformat_minor": 0
}
