{
 "cells": [
  {
   "cell_type": "code",
   "execution_count": 1,
   "metadata": {
    "collapsed": true
   },
   "outputs": [],
   "source": [
    "from scipy import signal\n",
    "import matplotlib.pyplot as plt\n",
    "import numpy as np\n",
    "%matplotlib inline"
   ]
  },
  {
   "cell_type": "code",
   "execution_count": 2,
   "metadata": {
    "collapsed": true
   },
   "outputs": [],
   "source": [
    "R = 10*10e3\n",
    "C = 100/10e9"
   ]
  },
  {
   "cell_type": "code",
   "execution_count": 3,
   "metadata": {
    "collapsed": false
   },
   "outputs": [],
   "source": [
    "sys = signal.TransferFunction([1],[R*C, 1])\n",
    "w,mag,phase = signal.bode(sys,np.linspace(10,1e6,1e6))"
   ]
  },
  {
   "cell_type": "code",
   "execution_count": 4,
   "metadata": {
    "collapsed": true
   },
   "outputs": [],
   "source": [
    "ganhos1 = 20*np.log10(np.array([0.99314,0.987926,0.934819,\n",
    "                   0.826152,0.149122,0.04099]))\n",
    "ganhosd = 20*np.log10(np.array([0.992816,0.987066,0.884942,\n",
    "                   0.69905,0.12868,0.01049]))\n",
    "freq = np.array([0.01,0.1,0.5,1,10,100]) / (R*C)"
   ]
  },
  {
   "cell_type": "code",
   "execution_count": 5,
   "metadata": {
    "collapsed": false
   },
   "outputs": [
    {
     "data": {
      "text/plain": [
       "(-60, 10)"
      ]
     },
     "execution_count": 5,
     "metadata": {},
     "output_type": "execute_result"
    },
    {
     "data": {
      "image/png": "[encoded data removed]",
      "text/plain": [
       "<matplotlib.figure.Figure at 0x87ac898>"
      ]
     },
     "metadata": {},
     "output_type": "display_data"
    }
   ],
   "source": [
    "fig = plt.figure(figsize=(8,8/np.sqrt(2)))\n",
    "ax1 = fig.add_subplot(1,1,1)\n",
    "ax1.semilogx(w,mag)\n",
    "ax1.scatter(freq,ganhos1)\n",
    "ax1.scatter(freq,ganhosd,color='black',marker='^')\n",
    "ax1.set_xlim([10e0,1e6])\n",
    "ax1.set_ylim([-60,10])\n",
    "#plt.semilogx(w,phase)"
   ]
  },
  {
   "cell_type": "code",
   "execution_count": 25,
   "metadata": {
    "collapsed": false
   },
   "outputs": [],
   "source": [
    "ee = np.exp(-1/(1e5*R*C))\n",
    "num = [1-ee]\n",
    "den = [1,-ee]\n",
    "sys2 = signal.TransferFunction(num,den,dt=1e-2)\n",
    "w2,mag2,phase2 = signal.dbode(sys2)\n",
    "ganhos2 = 20*np.log10(np.array([0.993314,0.985193,0.886429,\n",
    "                   0.698169,0.086009,0.0087460]))"
   ]
  },
  {
   "cell_type": "code",
   "execution_count": 30,
   "metadata": {
    "collapsed": false
   },
   "outputs": [
    {
     "data": {
      "text/plain": [
       "<matplotlib.collections.PathCollection at 0x1081f4a8>"
      ]
     },
     "execution_count": 30,
     "metadata": {},
     "output_type": "execute_result"
    },
    {
     "data": {
      "image/png": "[encoded data removed]",
      "text/plain": [
       "<matplotlib.figure.Figure at 0x1073a940>"
      ]
     },
     "metadata": {},
     "output_type": "display_data"
    }
   ],
   "source": [
    "fig2 = plt.figure(figsize=(8,8/np.sqrt(2)))\n",
    "ax1 = fig2.add_subplot(1,1,1)\n",
    "ax1.semilogx(w2*2*np.pi,mag2)\n",
    "ax1.scatter(freq,ganhos2)\n",
    "#ax1.set_xlim([1e1,1e6])\n",
    "#ax1.set_ylim([-60,10])"
   ]
  },
  {
   "cell_type": "code",
   "execution_count": 12,
   "metadata": {
    "collapsed": false
   },
   "outputs": [
    {
     "data": {
      "text/plain": [
       "TransferFunctionDiscrete(\n",
       "array([ 0.25,  0.25,  0.25,  0.25]),\n",
       "array([ 1.]),\n",
       "dt: 0.01\n",
       ")"
      ]
     },
     "execution_count": 12,
     "metadata": {},
     "output_type": "execute_result"
    }
   ],
   "source": [
    "num = [1,1,1,1]\n",
    "den = [0,0,0,4]\n",
    "signal.TransferFunction(num,den,dt=1e-2)"
   ]
  },
  {
   "cell_type": "code",
   "execution_count": 29,
   "metadata": {
    "collapsed": false
   },
   "outputs": [
    {
     "data": {
      "text/plain": [
       "(array([  0.        , -10.36178019, -16.07080645, -19.5308269 ,\n",
       "        -22.00589678, -23.93103165, -25.50536572, -26.83641981,\n",
       "        -27.98879499, -29.00432497, -29.91164702, -30.73122305,\n",
       "        -31.47818051, -32.16401804, -32.79767999, -33.38626065,\n",
       "        -33.93548142, -34.45002351, -34.93376558, -35.38995721,\n",
       "        -35.82134786, -36.23028445, -36.61878619, -36.98860284,\n",
       "        -37.34126053, -37.67809826, -38.00029724, -38.30890469,\n",
       "        -38.60485329, -38.88897728, -39.16202577, -39.42467391,\n",
       "        -39.67753223, -39.92115462, -40.15604507, -40.38266344,\n",
       "        -40.60143042, -40.8127318 , -41.01692221, -41.21432833,\n",
       "        -41.40525168, -41.58997115, -41.76874513, -41.94181344,\n",
       "        -42.10939902, -42.27170945, -42.42893828, -42.58126621,\n",
       "        -42.72886219, -42.87188436, -43.01048091, -43.14479087,\n",
       "        -43.2749448 , -43.40106541, -43.52326817, -43.6416618 ,\n",
       "        -43.75634875, -43.86742562, -43.97498361, -44.07910879,\n",
       "        -44.1798825 , -44.27738162, -44.37167885, -44.46284298,\n",
       "        -44.55093909, -44.6360288 , -44.71817044, -44.79741925,\n",
       "        -44.87382756, -44.94744489, -45.01831816, -45.08649181,\n",
       "        -45.15200787, -45.21490614, -45.27522427, -45.33299784,\n",
       "        -45.38826049, -45.44104396, -45.49137821, -45.53929145,\n",
       "        -45.58481027, -45.62795962, -45.66876292, -45.70724213,\n",
       "        -45.74341774, -45.77730887, -45.80893327, -45.83830738,\n",
       "        -45.86544639, -45.89036421, -45.91307356, -45.93358595,\n",
       "        -45.95191173, -45.96806012, -45.98203919, -45.99385591,\n",
       "        -46.00351617, -46.01102476, -46.01638538, -46.0196007 ]),\n",
       " array([   0.        ,    3.14159265,    6.28318531,    9.42477796,\n",
       "          12.56637061,   15.70796327,   18.84955592,   21.99114858,\n",
       "          25.13274123,   28.27433388,   31.41592654,   34.55751919,\n",
       "          37.69911184,   40.8407045 ,   43.98229715,   47.1238898 ,\n",
       "          50.26548246,   53.40707511,   56.54866776,   59.69026042,\n",
       "          62.83185307,   65.97344573,   69.11503838,   72.25663103,\n",
       "          75.39822369,   78.53981634,   81.68140899,   84.82300165,\n",
       "          87.9645943 ,   91.10618695,   94.24777961,   97.38937226,\n",
       "         100.53096491,  103.67255757,  106.81415022,  109.95574288,\n",
       "         113.09733553,  116.23892818,  119.38052084,  122.52211349,\n",
       "         125.66370614,  128.8052988 ,  131.94689145,  135.0884841 ,\n",
       "         138.23007676,  141.37166941,  144.51326207,  147.65485472,\n",
       "         150.79644737,  153.93804003,  157.07963268,  160.22122533,\n",
       "         163.36281799,  166.50441064,  169.64600329,  172.78759595,\n",
       "         175.9291886 ,  179.07078125,  182.21237391,  185.35396656,\n",
       "         188.49555922,  191.63715187,  194.77874452,  197.92033718,\n",
       "         201.06192983,  204.20352248,  207.34511514,  210.48670779,\n",
       "         213.62830044,  216.7698931 ,  219.91148575,  223.0530784 ,\n",
       "         226.19467106,  229.33626371,  232.47785637,  235.61944902,\n",
       "         238.76104167,  241.90263433,  245.04422698,  248.18581963,\n",
       "         251.32741229,  254.46900494,  257.61059759,  260.75219025,\n",
       "         263.8937829 ,  267.03537556,  270.17696821,  273.31856086,\n",
       "         276.46015352,  279.60174617,  282.74333882,  285.88493148,\n",
       "         289.02652413,  292.16811678,  295.30970944,  298.45130209,\n",
       "         301.59289474,  304.7344874 ,  307.87608005,  311.01767271]))"
      ]
     },
     "execution_count": 29,
     "metadata": {},
     "output_type": "execute_result"
    }
   ],
   "source": [
    "mag2,w2"
   ]
  },
  {
   "cell_type": "code",
   "execution_count": null,
   "metadata": {
    "collapsed": true
   },
   "outputs": [],
   "source": []
  }
 ],
 "metadata": {
  "kernelspec": {
   "display_name": "Python 3",
   "language": "python",
   "name": "python3"
  },
  "language_info": {
   "codemirror_mode": {
    "name": "ipython",
    "version": 3
   },
   "file_extension": ".py",
   "mimetype": "text/x-python",
   "name": "python",
   "nbconvert_exporter": "python",
   "pygments_lexer": "ipython3",
   "version": "3.5.2"
  }
 },
 "nbformat": 4,
 "nbformat_minor": 0
}
