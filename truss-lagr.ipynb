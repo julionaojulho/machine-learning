{
 "cells": [
  {
   "cell_type": "markdown",
   "metadata": {},
   "source": [
    "## Treliça"
   ]
  },
  {
   "cell_type": "code",
   "execution_count": 1,
   "metadata": {
    "collapsed": true
   },
   "outputs": [],
   "source": [
    "import numpy as np\n",
    "import matplotlib.pyplot as plt\n",
    "from scipy.linalg import solve\n",
    "%matplotlib inline"
   ]
  },
  {
   "cell_type": "code",
   "execution_count": 2,
   "metadata": {
    "collapsed": false
   },
   "outputs": [],
   "source": [
    "A_0 = 100  # mm^2\n",
    "E = 2e5   # N/mm^2\n",
    "L = 1.5e3*np.array([np.sqrt(2),1,1])     # mm\n",
    "F = np.array([0,500,-500]).reshape(3,1)  # N"
   ]
  },
  {
   "cell_type": "code",
   "execution_count": 185,
   "metadata": {
    "collapsed": false
   },
   "outputs": [],
   "source": [
    "def k_bar(Ai,Li):\n",
    "    return(Ai * E / Li)\n",
    "\n",
    "def k_matrix(A):\n",
    "    A1,A2,A3 = A[0],A[1],A[2]\n",
    "    L1,L2,L3 = L[0],L[1],L[2]\n",
    "    k_1 = k_bar(A1,L1)\n",
    "    k_2 = k_bar(A2,L2)\n",
    "    k_3 = k_bar(A3,L3)\n",
    "    return(np.array([k_1 + k_2,-k_1,-k_1,\n",
    "                    -k_1,k_1 + k_2,k_1,\n",
    "                    -k_1,k_1,k_1]).reshape(3,3))\n",
    "\n",
    "def u_desl(A):\n",
    "    K = k_matrix(A)\n",
    "    u = solve(K,F)\n",
    "    return(u)\n",
    "\n",
    "def dk_dA(A):\n",
    "    L1,L2,L3 = L[0],L[1],L[2]\n",
    "    dk1 = E / (2 * L1) * np.array([1,-1,-1,\n",
    "                                 -1,1,1,\n",
    "                                 -1,1,1]).reshape(3,3)\n",
    "    dk2 = E / (L2) * np.array([0,0,0,\n",
    "                               0,1,0,\n",
    "                               0,0,0]).reshape(3,3)\n",
    "    dk3 = E / (L3) * np.array([1,0,0,\n",
    "                               0,0,0,\n",
    "                               0,0,0]).reshape(3,3)\n",
    "    return(dk1,dk2,dk3)\n",
    "    \n",
    "\n",
    "def du_dA(A):\n",
    "    u = u_desl(A)\n",
    "    K = k_matrix(A)\n",
    "    dk1,dk2,dk3 = dk_dA(A)\n",
    "    return(solve(K,np.matmul(-dk1,u)),\n",
    "           solve(K,np.matmul(-dk2,u)),\n",
    "           solve(K,np.matmul(-dk3,u)))\n",
    "\n",
    "def f(A):\n",
    "    u = u_desl(A)\n",
    "    return(0.5*np.matmul(F.T,u)[0])\n",
    "\n",
    "def g_V(A):\n",
    "    return(np.dot(A,L) - 300 * np.sum(L))\n",
    "\n",
    "def g_A(A):\n",
    "    return(A_0 - np.array(A))\n",
    "\n",
    "def g_A2(A):\n",
    "    return(np.array(A) - 500)\n",
    "\n",
    "def lagr(A,lag):\n",
    "    return(f(A) + r_v * max(-lagr[6]/r_v,g_V(A))**2\n",
    "           + np.dot(r_A,np.maximum(g_A(A),-lag[0:3].T[0]/np.array(r_A))**2)\n",
    "           + np.dot(r_A,np.maximum(g_A2(A),-lag[3:6].T[0]/np.array(r_A))**2))\n",
    "\n",
    "def grad_dir(A):    \n",
    "    L1,L2,L3 = L[0],L[1],L[2]\n",
    "    Vg = r_v * max(0,g_V(A))\n",
    "    Ag = r_A*np.maximum(g_A(A),0)\n",
    "    Ag2 = r_A*np.maximum(g_A2(A),0)\n",
    "    uA = du_dA(A)\n",
    "    return(np.array([L1 * Vg - Ag[0] + Ag2[0]\n",
    "           + 0.5*np.matmul(F.T,uA[0])[0][0],\n",
    "           L2 * Vg - Ag[1] + Ag2[1]\n",
    "           + 0.5*np.matmul(F.T,uA[1])[0][0],\n",
    "           L3 * Vg - Ag[2] + Ag2[2]\n",
    "           + 0.5*np.matmul(F.T,uA[2])[0][0]]).reshape(3,1))\n",
    "\n",
    "def grad_adj(A):\n",
    "    L1,L2,L3 = L[0],L[1],L[2]\n",
    "    Vg = r_v * max(0,g_V(A))\n",
    "    Ag = r_A*np.maximum(g_A(A),0)    \n",
    "    Ag2 = r_A*np.maximum(g_A2(A),0)\n",
    "    dk1,dk2,dk3 = dk_dA(A)\n",
    "    u = u_desl(A)\n",
    "    ga1 = -np.matmul(np.matmul(dk1,u).T,u)[0][0]\n",
    "    ga2 = -np.matmul(np.matmul(dk2,u).T,u)[0][0]\n",
    "    ga3 = -np.matmul(np.matmul(dk3,u).T,u)[0][0]\n",
    "    return(np.array([L1 * Vg - Ag[0] + Ag2[0] + ga1,\n",
    "                     L2 * Vg - Ag[1] + Ag2[1] + ga2,\n",
    "                     L3 * Vg - Ag[2] + Ag2[2] + ga3]).reshape(3,1))\n",
    "\n",
    "def hess_num(x0,df,alpha,d,H=np.eye(3)):\n",
    "    try:\n",
    "        solve(H,-df,check_finite=True).T\n",
    "    except:\n",
    "        H = np.eye(3)\n",
    "    c = grad_adj(x0 + alpha * d)\n",
    "    y = c - df\n",
    "    s = alpha * d\n",
    "    #print(df,d,'ys')\n",
    "    if y.all() == 0:\n",
    "        D = 0\n",
    "    else:\n",
    "        D = np.matmul(y,y.T) / np.dot(y.T,s)\n",
    "    E = np.matmul(df,df.T) / np.dot(df.T[0],d)\n",
    "    \n",
    "    return(H + D + E)\n",
    "\n",
    "def direction(x0,flag,alpha=1,d2f=0):\n",
    "    df = grad_adj(x0)\n",
    "    if flag == 0:\n",
    "        d = -df.T\n",
    "    elif flag == 1:\n",
    "        df = grad_adj(x0)\n",
    "        if type(d2f) == int:\n",
    "            d2f = np.eye(3)\n",
    "        try:\n",
    "            d = solve(d2f,-df,sym_pos=True,check_finite=True).T\n",
    "        except:\n",
    "            ll = 1e1\n",
    "            d2f = d2f + ll * np.eye(3)\n",
    "            d = solve(d2f,-df).T\n",
    "            while lagr(x0) < lagr(x0 + alpha*d[0]):\n",
    "                ll = ll * 2\n",
    "                if np.isnan(d2f).any():\n",
    "                    d2f = ll * np.eye(3)\n",
    "                else:\n",
    "                    d2f = d2f + ll * np.eye(3)\n",
    "                d = solve(d2f,-df).T\n",
    "    return(d)\n",
    "\n",
    "def step(x0,d,inc,lag):\n",
    "    soma = 0\n",
    "    ll1 = lagr(x0)\n",
    "    m = (np.sqrt(5) + 1) / 2\n",
    "    x1 = x0 + inc*d\n",
    "    while lagr(x1) > ll1:\n",
    "        inc = inc / 10\n",
    "        x1 = x0 + inc * d\n",
    "    for i in range(100):\n",
    "        soma += m**i\n",
    "        if lagr(x0+inc*(soma)*d,lag) > ll1 and i > 0:\n",
    "            break\n",
    "        elif lagr(x0+inc*(soma)*d,lag) > ll1 and i == 0:\n",
    "            inc = inc / 2\n",
    "    I = inc * m**(i-1)*(1+m)\n",
    "    T = 1 / m\n",
    "    Au = inc * (soma)\n",
    "    Al = inc * (soma - m**i*(1+1/m))\n",
    "    Ab = T * I + Al\n",
    "    Aa = (1-T) * I + Al\n",
    "    fa = lagr(x0+Aa*d,lag)\n",
    "    fb = lagr(x0+Ab*d,lag)\n",
    "    while I > 1e-3:\n",
    "        if fa < fb:\n",
    "            Au, Ab = Ab, Aa    \n",
    "            Aa = Al + (1-T) * (Au-Al)\n",
    "            fb, fa = fa, lagr(x0+Aa*d,lag)\n",
    "        elif fa > fb:\n",
    "            Al, Aa = Aa, Ab            \n",
    "            Ab = T * (Au-Al) + Al\n",
    "            fa, fb = fb, lagr(x0+Ab*d,lag)\n",
    "        else:\n",
    "            Al,Au = Aa, Ab            \n",
    "            Ab = T * (Au-Al) + Al\n",
    "            Aa = (1-T) * (Au-Al) + Al\n",
    "            fa = lagr(x0+Aa*d,lag)\n",
    "            fb = lagr(x0+Ab*d,lag)\n",
    "        I = Au - Al\n",
    "    AA = 0.5*(Au+Al)\n",
    "    return(AA)\n",
    "\n",
    "def lagrangean(A,lag):\n",
    "    sublag = r_A * np.maximum(g_A(A),-lag[0:3].T[0]/np.array(r_A))\n",
    "    sublag2 = r_A * np.maximum(g_A2(A),-lag[3:6].T[0]/np.array(r_A))\n",
    "    lag[0] += 0.5*sublag[0]\n",
    "    lag[1] += 0.5*sublag[1]\n",
    "    lag[2] += 0.5*sublag[2]\n",
    "    lag[3] += 0.5*sublag2[0]\n",
    "    lag[4] += 0.5*sublag2[1]\n",
    "    lag[5] += 0.5*sublag2[2]\n",
    "    lag[6] += 0.5 * max(g_V(A),-lag[6]/r_v)\n",
    "    return(lag)\n",
    "\n",
    "def max_grad(A,lag):\n",
    "    gr1 = max(g_A(A)[0],-lag[0]/r_A[0])\n",
    "    gr2 = max(g_A(A)[1],-lag[1]/r_A[0])\n",
    "    gr3 = max(g_A(A)[2],-lag[2]/r_A[0])\n",
    "    gr4 = max(g_A2(A)[0],-lag[3]/r_A[0])\n",
    "    gr5 = max(g_A2(A)[1],-lag[4]/r_A[0])\n",
    "    gr6 = max(g_A2(A)[2],-lag[5]/r_A[0])\n",
    "    gr7 = max(g_V(A),-lag[6]/r_v)\n",
    "    return(max([gr1,gr2,gr3,gr4,gr5,gr6,gr7]))    "
   ]
  },
  {
   "cell_type": "code",
   "execution_count": 187,
   "metadata": {
    "collapsed": false,
    "scrolled": true
   },
   "outputs": [
    {
     "ename": "TypeError",
     "evalue": "'function' object is not subscriptable",
     "output_type": "error",
     "traceback": [
      "\u001b[1;31m---------------------------------------------------------------------------\u001b[0m",
      "\u001b[1;31mTypeError\u001b[0m                                 Traceback (most recent call last)",
      "\u001b[1;32m<ipython-input-187-4d38ed91ed99>\u001b[0m in \u001b[0;36m<module>\u001b[1;34m()\u001b[0m\n\u001b[0;32m      3\u001b[0m \u001b[0mr_A\u001b[0m \u001b[1;33m=\u001b[0m \u001b[1;33m[\u001b[0m\u001b[1;36m1e12\u001b[0m\u001b[1;33m,\u001b[0m\u001b[1;36m1e12\u001b[0m\u001b[1;33m,\u001b[0m\u001b[1;36m1e12\u001b[0m\u001b[1;33m]\u001b[0m\u001b[1;33m\u001b[0m\u001b[0m\n\u001b[0;32m      4\u001b[0m \u001b[0mA0\u001b[0m \u001b[1;33m=\u001b[0m \u001b[1;33m[\u001b[0m\u001b[1;36m300\u001b[0m\u001b[1;33m,\u001b[0m\u001b[1;36m400\u001b[0m\u001b[1;33m,\u001b[0m\u001b[1;36m200\u001b[0m\u001b[1;33m]\u001b[0m\u001b[1;33m\u001b[0m\u001b[0m\n\u001b[1;32m----> 5\u001b[1;33m \u001b[0ml\u001b[0m\u001b[1;33m,\u001b[0m\u001b[0mdl\u001b[0m\u001b[1;33m=\u001b[0m \u001b[0mlagr\u001b[0m\u001b[1;33m(\u001b[0m\u001b[0mA0\u001b[0m\u001b[1;33m,\u001b[0m\u001b[0mlag\u001b[0m\u001b[1;33m)\u001b[0m\u001b[1;33m,\u001b[0m\u001b[0mgrad_adj\u001b[0m\u001b[1;33m(\u001b[0m\u001b[0mA0\u001b[0m\u001b[1;33m)\u001b[0m\u001b[1;33m\u001b[0m\u001b[0m\n\u001b[0m\u001b[0;32m      6\u001b[0m \u001b[0md2l\u001b[0m \u001b[1;33m=\u001b[0m \u001b[0mhess_num\u001b[0m\u001b[1;33m(\u001b[0m\u001b[0mA0\u001b[0m\u001b[1;33m,\u001b[0m\u001b[0mdl\u001b[0m\u001b[1;33m,\u001b[0m\u001b[1;36m1\u001b[0m\u001b[1;33m,\u001b[0m\u001b[1;33m-\u001b[0m\u001b[0mdl\u001b[0m\u001b[1;33m.\u001b[0m\u001b[0mT\u001b[0m\u001b[1;33m[\u001b[0m\u001b[1;36m0\u001b[0m\u001b[1;33m]\u001b[0m\u001b[1;33m)\u001b[0m\u001b[1;33m\u001b[0m\u001b[0m\n\u001b[0;32m      7\u001b[0m \u001b[0mprint\u001b[0m\u001b[1;33m(\u001b[0m\u001b[0ml\u001b[0m\u001b[1;33m,\u001b[0m\u001b[0mnp\u001b[0m\u001b[1;33m.\u001b[0m\u001b[0mlinalg\u001b[0m\u001b[1;33m.\u001b[0m\u001b[0mnorm\u001b[0m\u001b[1;33m(\u001b[0m\u001b[0mdl\u001b[0m\u001b[1;33m)\u001b[0m\u001b[1;33m,\u001b[0m\u001b[0md2l\u001b[0m\u001b[1;33m)\u001b[0m\u001b[1;33m\u001b[0m\u001b[0m\n",
      "\u001b[1;32m<ipython-input-185-e0adefc2e6ce>\u001b[0m in \u001b[0;36mlagr\u001b[1;34m(A, lag)\u001b[0m\n\u001b[0;32m     55\u001b[0m     return(f(A) + r_v * max(-lagr[6]/r_v,g_V(A))**2\n\u001b[0;32m     56\u001b[0m            \u001b[1;33m+\u001b[0m \u001b[0mnp\u001b[0m\u001b[1;33m.\u001b[0m\u001b[0mdot\u001b[0m\u001b[1;33m(\u001b[0m\u001b[0mr_A\u001b[0m\u001b[1;33m,\u001b[0m\u001b[0mnp\u001b[0m\u001b[1;33m.\u001b[0m\u001b[0mmaximum\u001b[0m\u001b[1;33m(\u001b[0m\u001b[0mg_A\u001b[0m\u001b[1;33m(\u001b[0m\u001b[0mA\u001b[0m\u001b[1;33m)\u001b[0m\u001b[1;33m,\u001b[0m\u001b[1;33m-\u001b[0m\u001b[0mlag\u001b[0m\u001b[1;33m[\u001b[0m\u001b[1;36m0\u001b[0m\u001b[1;33m:\u001b[0m\u001b[1;36m3\u001b[0m\u001b[1;33m]\u001b[0m\u001b[1;33m.\u001b[0m\u001b[0mT\u001b[0m\u001b[1;33m[\u001b[0m\u001b[1;36m0\u001b[0m\u001b[1;33m]\u001b[0m\u001b[1;33m/\u001b[0m\u001b[0mnp\u001b[0m\u001b[1;33m.\u001b[0m\u001b[0marray\u001b[0m\u001b[1;33m(\u001b[0m\u001b[0mr_A\u001b[0m\u001b[1;33m)\u001b[0m\u001b[1;33m)\u001b[0m\u001b[1;33m**\u001b[0m\u001b[1;36m2\u001b[0m\u001b[1;33m)\u001b[0m\u001b[1;33m\u001b[0m\u001b[0m\n\u001b[1;32m---> 57\u001b[1;33m            + np.dot(r_A,np.maximum(g_A2(A),-lag[3:6].T[0]/np.array(r_A))**2))\n\u001b[0m\u001b[0;32m     58\u001b[0m \u001b[1;33m\u001b[0m\u001b[0m\n\u001b[0;32m     59\u001b[0m \u001b[1;32mdef\u001b[0m \u001b[0mgrad_dir\u001b[0m\u001b[1;33m(\u001b[0m\u001b[0mA\u001b[0m\u001b[1;33m)\u001b[0m\u001b[1;33m:\u001b[0m\u001b[1;33m\u001b[0m\u001b[0m\n",
      "\u001b[1;31mTypeError\u001b[0m: 'function' object is not subscriptable"
     ]
    }
   ],
   "source": [
    "lag = np.zeros((7,1))\n",
    "r_v = 1e-9\n",
    "r_A = [1e12,1e12,1e12]\n",
    "A0 = [300,400,200]\n",
    "l,dl= lagr(A0,lag),grad_adj(A0)\n",
    "d2l = hess_num(A0,dl,1,-dl.T[0])\n",
    "print(l,np.linalg.norm(dl),d2l)\n",
    "d = direction(A0,1,1,d2l)[0]\n",
    "inc = 0.5\n",
    "a = step(A0,d,inc,lag)\n",
    "var = A0\n",
    "Appp = [[0,0,0]]*10\n",
    "# print(lagr(var+a*d))\n",
    "\n",
    "for j in range(100):\n",
    "    for i in range(150):\n",
    "    #print(lagr(var+a*d))\n",
    "        if np.linalg.norm(dl) <= 1e-2:\n",
    "            break\n",
    "        elif i > 30 and (dl == Appp[i-10]).all():\n",
    "            break\n",
    "        elif lagr(var + a * d,lag) < l:\n",
    "            while lagr(var + a * d,lag) < l:\n",
    "                dA = a * d\n",
    "                var += dA\n",
    "                l,dl = lagr(var,lag),grad_adj(var)\n",
    "                a = step(var,d,inc,lag)\n",
    "        else:        \n",
    "            d = direction(var,1,a,d2l)[0]\n",
    "            d2l = hess_num(var,dl,a,d,d2l)\n",
    "            a = step(var,d,inc,lag)\n",
    "            l,dl = lagr(var,lag),grad_adj(var)    \n",
    "        #print(i,var,lagr(var),np.linalg.norm(dl))\n",
    "        Appp.append(dl)\n",
    "    lag = lagrangean(var,lag)\n",
    "    if max_grad(var,lag) < 1e-2:\n",
    "        print('convergiu')\n",
    "        break\n",
    "    \n",
    "print(var,'\\n',lagr(var),'\\n',np.linalg.norm(dl),'\\n',i)"
   ]
  },
  {
   "cell_type": "code",
   "execution_count": 183,
   "metadata": {
    "collapsed": false,
    "scrolled": true
   },
   "outputs": [
    {
     "data": {
      "text/plain": [
       "(array([ 366.27032026,  407.07015372,  100.00000091]), 149, 99)"
      ]
     },
     "execution_count": 183,
     "metadata": {},
     "output_type": "execute_result"
    }
   ],
   "source": [
    "var,i,j"
   ]
  },
  {
   "cell_type": "code",
   "execution_count": 188,
   "metadata": {
    "collapsed": false
   },
   "outputs": [
    {
     "ename": "TypeError",
     "evalue": "'function' object is not subscriptable",
     "output_type": "error",
     "traceback": [
      "\u001b[1;31m---------------------------------------------------------------------------\u001b[0m",
      "\u001b[1;31mTypeError\u001b[0m                                 Traceback (most recent call last)",
      "\u001b[1;32m<ipython-input-188-5c944d54793c>\u001b[0m in \u001b[0;36m<module>\u001b[1;34m()\u001b[0m\n\u001b[1;32m----> 1\u001b[1;33m \u001b[0mlagr\u001b[0m\u001b[1;33m(\u001b[0m\u001b[0mvar\u001b[0m\u001b[1;33m,\u001b[0m\u001b[0mlag\u001b[0m\u001b[1;33m)\u001b[0m\u001b[1;33m,\u001b[0m\u001b[0mnp\u001b[0m\u001b[1;33m.\u001b[0m\u001b[0mlinalg\u001b[0m\u001b[1;33m.\u001b[0m\u001b[0mnorm\u001b[0m\u001b[1;33m(\u001b[0m\u001b[0mdl\u001b[0m\u001b[1;33m)\u001b[0m\u001b[1;33m,\u001b[0m\u001b[0ma\u001b[0m\u001b[1;33m*\u001b[0m\u001b[0md\u001b[0m\u001b[1;33m,\u001b[0m\u001b[0md2l\u001b[0m\u001b[1;33m\u001b[0m\u001b[0m\n\u001b[0m",
      "\u001b[1;32m<ipython-input-185-e0adefc2e6ce>\u001b[0m in \u001b[0;36mlagr\u001b[1;34m(A, lag)\u001b[0m\n\u001b[0;32m     55\u001b[0m     return(f(A) + r_v * max(-lagr[6]/r_v,g_V(A))**2\n\u001b[0;32m     56\u001b[0m            \u001b[1;33m+\u001b[0m \u001b[0mnp\u001b[0m\u001b[1;33m.\u001b[0m\u001b[0mdot\u001b[0m\u001b[1;33m(\u001b[0m\u001b[0mr_A\u001b[0m\u001b[1;33m,\u001b[0m\u001b[0mnp\u001b[0m\u001b[1;33m.\u001b[0m\u001b[0mmaximum\u001b[0m\u001b[1;33m(\u001b[0m\u001b[0mg_A\u001b[0m\u001b[1;33m(\u001b[0m\u001b[0mA\u001b[0m\u001b[1;33m)\u001b[0m\u001b[1;33m,\u001b[0m\u001b[1;33m-\u001b[0m\u001b[0mlag\u001b[0m\u001b[1;33m[\u001b[0m\u001b[1;36m0\u001b[0m\u001b[1;33m:\u001b[0m\u001b[1;36m3\u001b[0m\u001b[1;33m]\u001b[0m\u001b[1;33m.\u001b[0m\u001b[0mT\u001b[0m\u001b[1;33m[\u001b[0m\u001b[1;36m0\u001b[0m\u001b[1;33m]\u001b[0m\u001b[1;33m/\u001b[0m\u001b[0mnp\u001b[0m\u001b[1;33m.\u001b[0m\u001b[0marray\u001b[0m\u001b[1;33m(\u001b[0m\u001b[0mr_A\u001b[0m\u001b[1;33m)\u001b[0m\u001b[1;33m)\u001b[0m\u001b[1;33m**\u001b[0m\u001b[1;36m2\u001b[0m\u001b[1;33m)\u001b[0m\u001b[1;33m\u001b[0m\u001b[0m\n\u001b[1;32m---> 57\u001b[1;33m            + np.dot(r_A,np.maximum(g_A2(A),-lag[3:6].T[0]/np.array(r_A))**2))\n\u001b[0m\u001b[0;32m     58\u001b[0m \u001b[1;33m\u001b[0m\u001b[0m\n\u001b[0;32m     59\u001b[0m \u001b[1;32mdef\u001b[0m \u001b[0mgrad_dir\u001b[0m\u001b[1;33m(\u001b[0m\u001b[0mA\u001b[0m\u001b[1;33m)\u001b[0m\u001b[1;33m:\u001b[0m\u001b[1;33m\u001b[0m\u001b[0m\n",
      "\u001b[1;31mTypeError\u001b[0m: 'function' object is not subscriptable"
     ]
    }
   ],
   "source": [
    "lagr(var,lag),np.linalg.norm(dl),a*d,d2l"
   ]
  },
  {
   "cell_type": "code",
   "execution_count": 72,
   "metadata": {
    "collapsed": false
   },
   "outputs": [
    {
     "data": {
      "text/plain": [
       "array([ 227.19582238,  485.36852431,  217.59213108])"
      ]
     },
     "execution_count": 72,
     "metadata": {},
     "output_type": "execute_result"
    }
   ],
   "source": [
    "e1 = hess_num(A0,grad_dir(A0),1,-grad_dir(A0).T[0])\n",
    "t1 = direction(A0,1,1,e1)[0]\n",
    "a3 = step(A0,t1,1)\n",
    "var = A0 + a3*t1\n",
    "var"
   ]
  },
  {
   "cell_type": "code",
   "execution_count": 70,
   "metadata": {
    "collapsed": false
   },
   "outputs": [
    {
     "data": {
      "text/plain": [
       "array([ 227.19582238,  485.36852431,  217.59213108])"
      ]
     },
     "execution_count": 70,
     "metadata": {},
     "output_type": "execute_result"
    }
   ],
   "source": [
    "e2 = hess_num(var,grad_dir(var),a3,t1)\n",
    "t2 = direction(var,1,a3,e2)[0]\n",
    "var += step(var,t2,1e6)*t2\n",
    "var"
   ]
  },
  {
   "cell_type": "code",
   "execution_count": 172,
   "metadata": {
    "collapsed": false,
    "scrolled": true
   },
   "outputs": [
    {
     "data": {
      "text/plain": [
       "array([[   0.        ],\n",
       "       [   0.        ],\n",
       "       [   0.        ],\n",
       "       [   0.        ],\n",
       "       [   0.        ],\n",
       "       [   0.        ],\n",
       "       [ 451.30584996]])"
      ]
     },
     "execution_count": 172,
     "metadata": {},
     "output_type": "execute_result"
    }
   ],
   "source": [
    "lagrangean(var,lag)"
   ]
  },
  {
   "cell_type": "code",
   "execution_count": 174,
   "metadata": {
    "collapsed": false
   },
   "outputs": [
    {
     "data": {
      "text/plain": [
       "-198.52146294109298"
      ]
     },
     "execution_count": 174,
     "metadata": {},
     "output_type": "execute_result"
    }
   ],
   "source": [
    "g_A(var)[0]"
   ]
  },
  {
   "cell_type": "code",
   "execution_count": null,
   "metadata": {
    "collapsed": true
   },
   "outputs": [],
   "source": []
  }
 ],
 "metadata": {
  "kernelspec": {
   "display_name": "Python 3",
   "language": "python",
   "name": "python3"
  },
  "language_info": {
   "codemirror_mode": {
    "name": "ipython",
    "version": 3
   },
   "file_extension": ".py",
   "mimetype": "text/x-python",
   "name": "python",
   "nbconvert_exporter": "python",
   "pygments_lexer": "ipython3",
   "version": "3.5.2"
  }
 },
 "nbformat": 4,
 "nbformat_minor": 0
}
